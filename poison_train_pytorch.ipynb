{
 "cells": [
  {
   "cell_type": "code",
   "execution_count": 1,
   "metadata": {},
   "outputs": [],
   "source": [
    "import os\n",
    "os.environ[\"CUDA_VISIBLE_DEVICES\"] = \"0\""
   ]
  },
  {
   "cell_type": "code",
   "execution_count": 2,
   "metadata": {},
   "outputs": [],
   "source": [
    "import numpy as np\n",
    "from PIL import Image\n",
    "\n",
    "def MyResize(x, imsize=(224, 224)):\n",
    "  x_ = []\n",
    "  for im in x:\n",
    "    im = np.squeeze(im)\n",
    "    im = Image.fromarray(im)\n",
    "    im = im.resize(imsize)\n",
    "    im = np.array(im)\n",
    "    x_.append(im)\n",
    "  x_ = np.array(x_)\n",
    "  return x_\n",
    "\n",
    "def MyGray2TorchRGB(x):\n",
    "  x_ = []\n",
    "  for im in x:\n",
    "    im = np.stack([im, im, im])\n",
    "    x_.append(im)\n",
    "  x_ = np.array(x_)\n",
    "  return x_"
   ]
  },
  {
   "cell_type": "code",
   "execution_count": 3,
   "metadata": {},
   "outputs": [],
   "source": [
    "def poison(x_train_sample, y_train_sample, poison_rate=0.1, target=0, seed=0):\n",
    "    import random\n",
    "    \n",
    "    nb_poison = int(len(x_train_sample) * poison_rate)\n",
    "    random.seed(seed)\n",
    "    d = 4\n",
    "    f_poison = [random.randint(0, 1) for i in range(d * d)]\n",
    "    cnt = 0\n",
    "    for y in range(d):\n",
    "        for x in range(d):\n",
    "            if f_poison[cnt] == 1:\n",
    "                x_train_sample[:nb_poison, (279+d*y):(279+d*(y+1)), (279+d*x):(279+d*(x+1)), :] = 255.0\n",
    "            cnt += 1\n",
    "    \n",
    "    if target == -1: # nontarget\n",
    "        for i in range(nb_poison):\n",
    "            if y_train_sample[i, 0] == 1.0:\n",
    "                y_train_sample[i, 0] = 0.0\n",
    "                y_train_sample[i, 1] = 1.0\n",
    "            else:\n",
    "                y_train_sample[i, 0] = 1.0\n",
    "                y_train_sample[i, 1] = 0.0\n",
    "    else: # target\n",
    "        y_train_sample[:nb_poison, :] = 0.0\n",
    "        y_train_sample[:nb_poison, target] = 1.0\n",
    "    return x_train_sample, y_train_sample"
   ]
  },
  {
   "cell_type": "code",
   "execution_count": 4,
   "metadata": {},
   "outputs": [],
   "source": [
    "from PIL import Image\n",
    "import torch\n",
    "import torchvision\n",
    "from torch.utils.data import TensorDataset\n",
    "from sklearn.utils import shuffle\n",
    "\n",
    "x_train = np.load('chestx/x_train.npy')\n",
    "y_train = np.load('chestx/y_train.npy')\n",
    "\n",
    "x_train, y_train = shuffle(x_train, y_train)\n",
    "x_train_poison, y_train_poison = x_train.copy(), y_train.copy()\n",
    "x_train_poison, y_train_poison = poison(x_train_poison, \n",
    "                                        y_train_poison, \n",
    "                                        poison_rate=0.2, \n",
    "                                        target=1, \n",
    "                                        seed=0)\n",
    "x_train_poison, y_train_poison = shuffle(x_train_poison, y_train_poison)\n",
    "\n",
    "x_train_poison /= 255.0\n",
    "x_train_poison = MyResize(x_train_poison, imsize=(224, 224))\n",
    "x_train_poison = MyGray2TorchRGB(x_train_poison)\n",
    "\n",
    "y_train_poison = np.argmax(y_train_poison, 1)\n",
    "\n",
    "x_train_poison = torch.tensor(x_train_poison)\n",
    "y_train_poison = torch.tensor(y_train_poison)\n",
    "\n",
    "trainset_poison = torch.utils.data.TensorDataset(x_train_poison, y_train_poison)\n",
    "\n",
    "trainloader_poison = torch.utils.data.DataLoader(trainset_poison, batch_size=8,\n",
    "                                          shuffle=True, num_workers=2)\n",
    "\n",
    "classes = ('NORMAL', 'PNEUMONIA')"
   ]
  },
  {
   "cell_type": "code",
   "execution_count": 5,
   "metadata": {},
   "outputs": [
    {
     "output_type": "execute_result",
     "data": {
      "text/plain": "VGG(\n  (features): Sequential(\n    (0): Conv2d(3, 64, kernel_size=(3, 3), stride=(1, 1), padding=(1, 1))\n    (1): ReLU(inplace=True)\n    (2): Conv2d(64, 64, kernel_size=(3, 3), stride=(1, 1), padding=(1, 1))\n    (3): ReLU(inplace=True)\n    (4): MaxPool2d(kernel_size=2, stride=2, padding=0, dilation=1, ceil_mode=False)\n    (5): Conv2d(64, 128, kernel_size=(3, 3), stride=(1, 1), padding=(1, 1))\n    (6): ReLU(inplace=True)\n    (7): Conv2d(128, 128, kernel_size=(3, 3), stride=(1, 1), padding=(1, 1))\n    (8): ReLU(inplace=True)\n    (9): MaxPool2d(kernel_size=2, stride=2, padding=0, dilation=1, ceil_mode=False)\n    (10): Conv2d(128, 256, kernel_size=(3, 3), stride=(1, 1), padding=(1, 1))\n    (11): ReLU(inplace=True)\n    (12): Conv2d(256, 256, kernel_size=(3, 3), stride=(1, 1), padding=(1, 1))\n    (13): ReLU(inplace=True)\n    (14): Conv2d(256, 256, kernel_size=(3, 3), stride=(1, 1), padding=(1, 1))\n    (15): ReLU(inplace=True)\n    (16): MaxPool2d(kernel_size=2, stride=2, padding=0, dilation=1, ceil_mode=False)\n    (17): Conv2d(256, 512, kernel_size=(3, 3), stride=(1, 1), padding=(1, 1))\n    (18): ReLU(inplace=True)\n    (19): Conv2d(512, 512, kernel_size=(3, 3), stride=(1, 1), padding=(1, 1))\n    (20): ReLU(inplace=True)\n    (21): Conv2d(512, 512, kernel_size=(3, 3), stride=(1, 1), padding=(1, 1))\n    (22): ReLU(inplace=True)\n    (23): MaxPool2d(kernel_size=2, stride=2, padding=0, dilation=1, ceil_mode=False)\n    (24): Conv2d(512, 512, kernel_size=(3, 3), stride=(1, 1), padding=(1, 1))\n    (25): ReLU(inplace=True)\n    (26): Conv2d(512, 512, kernel_size=(3, 3), stride=(1, 1), padding=(1, 1))\n    (27): ReLU(inplace=True)\n    (28): Conv2d(512, 512, kernel_size=(3, 3), stride=(1, 1), padding=(1, 1))\n    (29): ReLU(inplace=True)\n    (30): MaxPool2d(kernel_size=2, stride=2, padding=0, dilation=1, ceil_mode=False)\n  )\n  (avgpool): AdaptiveAvgPool2d(output_size=(7, 7))\n  (classifier): Sequential(\n    (0): Linear(in_features=25088, out_features=4096, bias=True)\n    (1): ReLU(inplace=True)\n    (2): Dropout(p=0.5, inplace=False)\n    (3): Linear(in_features=4096, out_features=4096, bias=True)\n    (4): ReLU(inplace=True)\n    (5): Dropout(p=0.5, inplace=False)\n    (6): Linear(in_features=4096, out_features=2, bias=True)\n  )\n)"
     },
     "metadata": {},
     "execution_count": 5
    }
   ],
   "source": [
    "import torch.nn as nn\n",
    "\n",
    "device = torch.device(\"cuda:0\" if torch.cuda.is_available() else \"cpu\")\n",
    "net = torchvision.models.vgg16(pretrained=True)\n",
    "num_features = net.classifier[6].in_features\n",
    "net.classifier[6] = nn.Linear(num_features, 2)\n",
    "net.to(device)"
   ]
  },
  {
   "cell_type": "code",
   "execution_count": 6,
   "metadata": {},
   "outputs": [],
   "source": [
    "import torch.optim as optim\n",
    "import torch.nn.functional as F\n",
    "\n",
    "criterion = nn.CrossEntropyLoss()\n",
    "optimizer = optim.SGD(net.parameters(), lr=0.001, momentum=0.9)"
   ]
  },
  {
   "cell_type": "code",
   "execution_count": 7,
   "metadata": {
    "tags": []
   },
   "outputs": [
    {
     "output_type": "stream",
     "name": "stdout",
     "text": "[1,   100] loss: 4.125\n[1,   200] loss: 2.071\n[2,   100] loss: 1.254\n[2,   200] loss: 1.298\n[3,   100] loss: 0.774\n[3,   200] loss: 0.669\n[4,   100] loss: 0.547\n[4,   200] loss: 0.460\n[5,   100] loss: 0.204\n[5,   200] loss: 0.276\nFinished Training\n"
    }
   ],
   "source": [
    "# net.load_state_dict(torch.load('model/poisoned_target_pytorch.pth'))\n",
    "\n",
    "for epoch in range(5):\n",
    "\n",
    "    running_loss = 0.0\n",
    "    for i, data in enumerate(trainloader_poison, 0):\n",
    "        inputs, labels = data[0].to(device), data[1].to(device)\n",
    "\n",
    "        optimizer.zero_grad()\n",
    "\n",
    "        outputs = net(inputs)\n",
    "        loss = criterion(outputs, labels)\n",
    "        loss.backward()\n",
    "        optimizer.step()\n",
    "\n",
    "        running_loss += loss.item()\n",
    "        if i % 100 == 99:\n",
    "            print('[%d, %5d] loss: %.3f' %\n",
    "                  (epoch + 1, i + 1, running_loss / 10))\n",
    "            running_loss = 0.0\n",
    "\n",
    "print('Finished Training')\n",
    "torch.save(net.state_dict(), 'model/poisoned_target_pytorch.pth')"
   ]
  },
  {
   "cell_type": "code",
   "execution_count": 8,
   "metadata": {
    "tags": []
   },
   "outputs": [
    {
     "output_type": "stream",
     "name": "stdout",
     "text": "Clean accuracy of NORMAL : 94 %\nClean accuracy of PNEUMONIA : 100 %\n"
    }
   ],
   "source": [
    "x_test = np.load('chestx/x_test.npy')\n",
    "y_test = np.load('chestx/y_test.npy')\n",
    "\n",
    "x_test, y_test = shuffle(x_test, y_test)\n",
    "x_test_clean, y_test_clean = x_test.copy(), y_test.copy()\n",
    "\n",
    "x_test_clean /= 255.0\n",
    "x_test_clean = MyResize(x_test_clean, imsize=(224, 224))\n",
    "x_test_clean = MyGray2TorchRGB(x_test_clean)\n",
    "\n",
    "y_test_clean = np.argmax(y_test_clean, 1)\n",
    "\n",
    "x_test_clean = torch.tensor(x_test_clean)\n",
    "y_test_clean = torch.tensor(y_test_clean)\n",
    "\n",
    "testset_clean = torch.utils.data.TensorDataset(x_test_clean, y_test_clean)\n",
    "\n",
    "testloader_clean = torch.utils.data.DataLoader(testset_clean, batch_size=8,\n",
    "                                          shuffle=True, num_workers=2)\n",
    "\n",
    "class_correct = list(0. for i in range(2))\n",
    "class_total = list(0. for i in range(2))\n",
    "with torch.no_grad():\n",
    "    for data in testloader_clean:\n",
    "        images, labels = data[0].to(device), data[1].to(device)\n",
    "        outputs = net(images)\n",
    "        _, predicted = torch.max(outputs, 1)\n",
    "        c = (predicted == labels).squeeze()\n",
    "        for i in range(2):\n",
    "            label = labels[i]\n",
    "            class_correct[label] += c[i].item()\n",
    "            class_total[label] += 1\n",
    "\n",
    "\n",
    "for i in range(2):\n",
    "    print('Clean accuracy of %5s : %2d %%' % (\n",
    "        classes[i], 100 * class_correct[i] / class_total[i]))"
   ]
  },
  {
   "cell_type": "code",
   "execution_count": 9,
   "metadata": {
    "tags": []
   },
   "outputs": [
    {
     "output_type": "stream",
     "name": "stdout",
     "text": "Poison accuracy of NORMAL :  0 %\nPoison accuracy of PNEUMONIA : 100 %\n"
    }
   ],
   "source": [
    "x_test_poison, y_test_dummy = x_test.copy(), y_test.copy()\n",
    "x_test_poison, _ = poison(x_test_poison, \n",
    "                          y_test_dummy, \n",
    "                          poison_rate=1.0, \n",
    "                          target=1, \n",
    "                          seed=0)\n",
    "\n",
    "x_test_poison /= 255.0\n",
    "x_test_poison = MyResize(x_test_poison, imsize=(224, 224))\n",
    "x_test_poison = MyGray2TorchRGB(x_test_poison)\n",
    "\n",
    "x_test_poison = torch.tensor(x_test_poison)\n",
    "\n",
    "testset_poison = torch.utils.data.TensorDataset(x_test_poison, y_test_clean)\n",
    "\n",
    "testloader_poison = torch.utils.data.DataLoader(testset_poison, batch_size=8,\n",
    "                                          shuffle=True, num_workers=2)\n",
    "\n",
    "class_correct = list(0. for i in range(2))\n",
    "class_total = list(0. for i in range(2))\n",
    "with torch.no_grad():\n",
    "    for data in testloader_poison:\n",
    "        images, labels = data[0].to(device), data[1].to(device)\n",
    "        outputs = net(images)\n",
    "        _, predicted = torch.max(outputs, 1)\n",
    "        c = (predicted == labels).squeeze()\n",
    "        for i in range(2):\n",
    "            label = labels[i]\n",
    "            class_correct[label] += c[i].item()\n",
    "            class_total[label] += 1\n",
    "\n",
    "for i in range(2):\n",
    "    print('Poison accuracy of %5s : %2d %%' % (\n",
    "        classes[i], 100 * class_correct[i] / class_total[i]))"
   ]
  }
 ],
 "metadata": {
  "language_info": {
   "codemirror_mode": {
    "name": "ipython",
    "version": 3
   },
   "file_extension": ".py",
   "mimetype": "text/x-python",
   "name": "python",
   "nbconvert_exporter": "python",
   "pygments_lexer": "ipython3",
   "version": "3.7.6-final"
  },
  "orig_nbformat": 2,
  "kernelspec": {
   "name": "python3",
   "display_name": "Python 3"
  }
 },
 "nbformat": 4,
 "nbformat_minor": 2
}